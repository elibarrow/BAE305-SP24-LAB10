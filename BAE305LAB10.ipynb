{
 "cells": [
  {
   "cell_type": "markdown",
   "metadata": {},
   "source": [
    "# Lab 1\n",
    "\n",
    "## Outline of Topics\n",
    "\n",
    "1. Setting up your own github page and forking a repo\n",
    "2. Files for Input and Output\n",
    "3. Write a function to reverse the order of a file.\n"
   ]
  },
  {
   "cell_type": "markdown",
   "metadata": {
    "jp-MarkdownHeadingCollapsed": true
   },
   "source": [
    "## Lab task number 1:\n",
    "\n",
    "Setting up your own github account.\n",
    "\n",
    "Watch the following youtube video from former Purdue student Yang Wang on setting up your own github account:\n",
    "\n",
    "<a href=\"https://www.youtube.com/watch?v=ZhHDfZ-l7ZU\" target=\"_blank\">REEU Tutorial 1: Sign Up for Github</a>\n",
    "\n",
    "Then create your own github account."
   ]
  },
  {
   "cell_type": "markdown",
   "metadata": {},
   "source": [
    "## Lab task number 2:\n",
    "\n",
    "Forking a repo.\n",
    "\n",
    "Watch the following youtube video from former Purdue student Yang Wang on setting up your own github account:\n",
    "\n",
    "<a href=\"https://www.youtube.com/watch?v=ZB9VgHFqqXU\" target=\"_blank\">REEU Tutorial 2: Fork a Github Repository</a>\n",
    "\n",
    "Then fork the repo ..."
   ]
  },
  {
   "cell_type": "code",
   "execution_count": 2,
   "metadata": {},
   "outputs": [],
   "source": [
    "# Bring in the packages we have used before.\n",
    "\n",
    "import math\n",
    "import numpy as np\n",
    "import matplotlib as mpl\n",
    "import matplotlib.pyplot as plt"
   ]
  },
  {
   "cell_type": "markdown",
   "metadata": {},
   "source": [
    "## Files for Input and Output\n",
    "To this point we have only used the `print()` command for program output. Python also provides an `input()` function for user input of single variables, etc.\n",
    "\n",
    "However, in order to handle large amounts of data we need a way to handle files for reading and writing."
   ]
  },
  {
   "cell_type": "markdown",
   "metadata": {},
   "source": [
    "All of the data in this lab will be located in a `Data` subdirectory relative to the home directory where python is running."
   ]
  },
  {
   "cell_type": "markdown",
   "metadata": {},
   "source": [
    "## Lab task number 3: As a simple example of file I/O we will open a file containing a poem and you will write some code to reverse the order of the characters and write it back to disk.\n",
    "\n",
    "Limericks are five line poems intended to amuse the reader. The rhyming scheme is such that the 1st, 2nd, and 5th lines rhyme with each other and the 3rd and 4th lines rhyme separately."
   ]
  },
  {
   "cell_type": "markdown",
   "metadata": {},
   "source": [
    "The `input()` command."
   ]
  },
  {
   "cell_type": "code",
   "execution_count": 6,
   "metadata": {},
   "outputs": [
    {
     "name": "stdin",
     "output_type": "stream",
     "text": [
      "Enter a filename that you want to open:  Data/PLimerick.txt\n"
     ]
    }
   ],
   "source": [
    "# The text file PLimerick located in the Data subdirectory contains a limerick. Define a string variable \n",
    "# to hold the file name (and the path to it) by entering the text:\n",
    "#\n",
    "#   Data/PLimerick\n",
    "#\n",
    "# into the text box that appears when you execute the input() command below.\n",
    "\n",
    "my_file_name = input('Enter a filename that you want to open: ')"
   ]
  },
  {
   "cell_type": "code",
   "execution_count": 8,
   "metadata": {},
   "outputs": [
    {
     "name": "stdout",
     "output_type": "stream",
     "text": [
      "<class 'str'>\n"
     ]
    },
    {
     "data": {
      "text/plain": [
       "'Data/PLimerick.txt'"
      ]
     },
     "execution_count": 8,
     "metadata": {},
     "output_type": "execute_result"
    }
   ],
   "source": [
    "# Check that you have one ...\n",
    "\n",
    "print(type(my_file_name))\n",
    "my_file_name"
   ]
  },
  {
   "cell_type": "markdown",
   "metadata": {},
   "source": [
    "### The `open()` command. \n",
    "When opening a file there are several modes that can be set and one must be careful because it is possible and easy to accidently overwrite an existing file. The modes of most interest are: \n",
    "1. `'r'` ... read-only\n",
    "2. `'w'` ... write-only\n",
    "3. `'a'` ... write-only but leave old data intact and append new data as file end"
   ]
  },
  {
   "cell_type": "code",
   "execution_count": 10,
   "metadata": {},
   "outputs": [
    {
     "name": "stdout",
     "output_type": "stream",
     "text": [
      "Data/PLimerick.txt \n",
      "\n",
      "Wish I Were a Fly on the Wall\n",
      " by Robert D. Cowan\n",
      " \n",
      " There once was a fly on the wall\n",
      " I wonder why didn't it fall\n",
      " Because its feet stuck\n",
      " Or was it just luck\n",
      " Or does gravity miss things so small? "
     ]
    }
   ],
   "source": [
    "# Open the file for read-only. Then print it line by line\n",
    "# and close the file. To see why the **end=''** is added to the\n",
    "# print command, remove it, run, and see what happens.\n",
    "#\n",
    "# Notice that the open command looks in the current working \n",
    "# directory for the file.\n",
    "\n",
    "print(my_file_name, '\\n')\n",
    "temp_file = open(my_file_name, \"r\")\n",
    "\n",
    "for line_str in temp_file:\n",
    "    print(line_str, end=' ')\n",
    "\n",
    "temp_file.close()"
   ]
  },
  {
   "cell_type": "markdown",
   "metadata": {},
   "source": [
    "### Input and Output from a Python Program\n",
    "\n",
    "Until now the available ways to communicate with a program have been via what is termed `standard input` and `standard output`. For standard input the input device is the **keyboard** and for standard output the output device is the **terminal window**. Our examples so far have made use of the `print()` command and the `input()` command.\n",
    "\n",
    "Standard input and output are really only useful for simple communications using very short messages. In the typical case in analyzing large data we need to use `file input` and `file output`.\n",
    "\n",
    "The `open()` command above creates a sort of pipe between the operating system of the computer, which can access and modify files stored on disk, and the python program.\n",
    "\n",
    "When it does this the command creates a **file object**. For example:"
   ]
  },
  {
   "cell_type": "code",
   "execution_count": 80,
   "metadata": {},
   "outputs": [
    {
     "data": {
      "text/plain": [
       "_io.TextIOWrapper"
      ]
     },
     "execution_count": 80,
     "metadata": {},
     "output_type": "execute_result"
    }
   ],
   "source": [
    "# Reopen the file ...\n",
    "temp_file = open(my_file_name, \"r\")\n",
    "type(temp_file)"
   ]
  },
  {
   "cell_type": "markdown",
   "metadata": {},
   "source": [
    "The above is a new type we have not seen. It is sometimes also called a file descriptor or stream. There are various ways to access the stream from a file but they all operate line by line. In otherwords, the file is read one line at a time and written one line at a time. In addition, a `for` loop can be used (as we see above) to step through the entire file one line at a time."
   ]
  },
  {
   "cell_type": "markdown",
   "metadata": {},
   "source": [
    "What happens if we print the file?"
   ]
  },
  {
   "cell_type": "code",
   "execution_count": 82,
   "metadata": {},
   "outputs": [
    {
     "name": "stdout",
     "output_type": "stream",
     "text": [
      "<_io.TextIOWrapper name='Data/PLimerick.txt' mode='r' encoding='UTF-8'>\n"
     ]
    }
   ],
   "source": [
    "print(temp_file)"
   ]
  },
  {
   "cell_type": "markdown",
   "metadata": {},
   "source": [
    "Note that we do not get the contents of the file but rather we see information about the file stream. If we want to see more about the methods for operating on one of the these file stream objects, we can type the filename followed by a .<tab> .... e.g., try to type\n",
    "    \n",
    "    temp_file.<tab>\n",
    "    \n",
    "into the cell below ..."
   ]
  },
  {
   "cell_type": "code",
   "execution_count": null,
   "metadata": {},
   "outputs": [],
   "source": []
  },
  {
   "cell_type": "code",
   "execution_count": 65,
   "metadata": {},
   "outputs": [
    {
     "data": {
      "text/plain": [
       "<function TextIOWrapper.close()>"
      ]
     },
     "execution_count": 65,
     "metadata": {},
     "output_type": "execute_result"
    }
   ],
   "source": [
    "# We should always close the file when we are done with it ...\n",
    "temp_file.close"
   ]
  },
  {
   "cell_type": "code",
   "execution_count": 12,
   "metadata": {},
   "outputs": [],
   "source": [
    "# Create a name for a new file to put the reversed poem in.\n",
    "my_new_file_name = my_file_name + 'Backwards'\n",
    "\n",
    "# This creates the new file and, if aleady exists, erases any \n",
    "# old content and replaces it with the first part of the poem\n",
    "fout = open(my_new_file_name, \"w\")\n",
    "fout.close()\n",
    "\n",
    "# Get the data out of the original file and put it into a long\n",
    "# string variable called \"longline\" which we initialize as an\n",
    "# empty string.\n",
    "longline = ''\n",
    "fin = open(my_file_name, \"r\")\n",
    "\n",
    "for line in fin:\n",
    "    longline = longline + line\n",
    "\n",
    "fin.close()"
   ]
  },
  {
   "cell_type": "markdown",
   "metadata": {},
   "source": [
    "Now let's look at the string variable longline in two ways.\n",
    "\n",
    "First print as a single string\n",
    "Then use the print command to see how Python formats it for display"
   ]
  },
  {
   "cell_type": "code",
   "execution_count": 14,
   "metadata": {},
   "outputs": [
    {
     "data": {
      "text/plain": [
       "\"Wish I Were a Fly on the Wall\\nby Robert D. Cowan\\n\\nThere once was a fly on the wall\\nI wonder why didn't it fall\\nBecause its feet stuck\\nOr was it just luck\\nOr does gravity miss things so small?\""
      ]
     },
     "execution_count": 14,
     "metadata": {},
     "output_type": "execute_result"
    }
   ],
   "source": [
    "# As a string\n",
    "longline"
   ]
  },
  {
   "cell_type": "code",
   "execution_count": 16,
   "metadata": {},
   "outputs": [
    {
     "name": "stdout",
     "output_type": "stream",
     "text": [
      "Wish I Were a Fly on the Wall\n",
      "by Robert D. Cowan\n",
      "\n",
      "There once was a fly on the wall\n",
      "I wonder why didn't it fall\n",
      "Because its feet stuck\n",
      "Or was it just luck\n",
      "Or does gravity miss things so small?\n"
     ]
    }
   ],
   "source": [
    "# Via print command\n",
    "print(longline)"
   ]
  },
  {
   "cell_type": "markdown",
   "metadata": {},
   "source": [
    "### Write a function that takes an input string of arbitrary length and returns the string in reverse order ...\n",
    "\n",
    "Test it on the string `bananas` and then run it on longline to create a string variable backwardslongline."
   ]
  },
  {
   "cell_type": "markdown",
   "metadata": {},
   "source": [
    "**Hint:** A string variable can be iterated through one character at a time just as we did in the Lect 1 with the for loop ... `for x in 'banana:'` Your function will take an input string and return an output string. Before the loop begins the output string will be initialized as the empty string. Then, using the for loop, characters will be read from the input string and pre-pended to the output string, reversing the input."
   ]
  },
  {
   "cell_type": "code",
   "execution_count": 18,
   "metadata": {},
   "outputs": [
    {
     "name": "stdout",
     "output_type": "stream",
     "text": [
      "?llams os sgniht ssim ytivarg seod rO\n",
      "kcul tsuj ti saw rO\n",
      "kcuts teef sti esuaceB\n",
      "llaf ti t'ndid yhw rednow I\n",
      "llaw eht no ylf a saw ecno erehT\n",
      "\n",
      "nawoC .D treboR yb\n",
      "llaW eht no ylF a ereW I hsiW\n"
     ]
    }
   ],
   "source": [
    "# Skeleton\n",
    "\n",
    "def anameforyourfunction(instring): #this defines the function named 'anameforyourfunction' that takes the parameter intstring.'\n",
    "    line = '';                      #this creates the empty string 'line'\n",
    "    for letter in instring:         #this starts a for loop that moves through each character in the text\n",
    "        line = letter + line;       #this line adds each letter to the existing line which makes the next go backwards\n",
    "        #print(line);\n",
    "    return line;                    #this is the line that will return the complete reversed text\n",
    "toprint = anameforyourfunction(longline) #this line assigns toprint to the result from the previous for loop\n",
    "print(toprint)            # this line prints the backwards string\n",
    "    \n",
    "# Test it on 'bananas' ...\n",
    "\n",
    "\n",
    "\n",
    "# Reverse longline variable ...\n",
    "backwardslongline = anameforyourfunction(longline) # this line reassigns the backwards text to a new variable called backwardslongline\n"
   ]
  },
  {
   "cell_type": "code",
   "execution_count": 20,
   "metadata": {},
   "outputs": [
    {
     "name": "stdout",
     "output_type": "stream",
     "text": [
      "?llams os sgniht ssim ytivarg seod rO\n",
      "kcul tsuj ti saw rO\n",
      "kcuts teef sti esuaceB\n",
      "llaf ti t'ndid yhw rednow I\n",
      "llaw eht no ylf a saw ecno erehT\n",
      "\n",
      "nawoC .D treboR yb\n",
      "llaW eht no ylF a ereW I hsiW\n"
     ]
    }
   ],
   "source": [
    "print(backwardslongline)\n",
    "#this line prints the backwardslongline variable which is the backwards PLimerick text\n",
    "#this is the result that was requested in this final part of the lab."
   ]
  },
  {
   "cell_type": "code",
   "execution_count": null,
   "metadata": {},
   "outputs": [],
   "source": []
  }
 ],
 "metadata": {
  "kernelspec": {
   "display_name": "anaconda-panel-2023.05-py310",
   "language": "python",
   "name": "conda-env-anaconda-panel-2023.05-py310-py"
  },
  "language_info": {
   "codemirror_mode": {
    "name": "ipython",
    "version": 3
   },
   "file_extension": ".py",
   "mimetype": "text/x-python",
   "name": "python",
   "nbconvert_exporter": "python",
   "pygments_lexer": "ipython3",
   "version": "3.11.5"
  }
 },
 "nbformat": 4,
 "nbformat_minor": 4
}
